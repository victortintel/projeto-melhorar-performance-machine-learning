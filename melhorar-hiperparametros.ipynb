{
 "cells": [
  {
   "cell_type": "markdown",
   "id": "4f352e44",
   "metadata": {},
   "source": [
    "## Projeto - Diferenças entre GridSearchCV, RandonSearchCV e Baysian Search - Victor Tintel"
   ]
  },
  {
   "cell_type": "code",
   "execution_count": 2,
   "id": "10112c17",
   "metadata": {},
   "outputs": [],
   "source": [
    "# A primeira coisa que temos que fazer é importar os pacotes que iremos utilizar.\n",
    "\n",
    "import pandas as pd\n",
    "import numpy as np\n",
    "import time\n",
    "\n",
    "import warnings\n",
    "warnings.filterwarnings(\"ignore\") \n",
    "\n",
    "\n",
    "from sklearn.ensemble import RandomForestClassifier\n",
    "from sklearn.model_selection import GridSearchCV\n",
    "from sklearn.model_selection import RandomizedSearchCV \n",
    "\n",
    "from sklearn.metrics import r2_score\n",
    "from sklearn.preprocessing import LabelEncoder\n",
    "from sklearn.preprocessing import MinMaxScaler\n",
    "from sklearn.model_selection import train_test_split\n",
    "\n",
    "#Comando para exibir todas colunas do arquivo\n",
    "pd.set_option('display.max_columns', None)\n",
    "pd.set_option('display.max_rows', None)\n",
    "pd.set_option('max_colwidth', 50)"
   ]
  },
  {
   "cell_type": "markdown",
   "id": "87e5a74e",
   "metadata": {},
   "source": [
    "## Importação dos dados, Analise Exploratória e Tratamento de Dados"
   ]
  },
  {
   "cell_type": "code",
   "execution_count": 4,
   "id": "576aab63",
   "metadata": {},
   "outputs": [],
   "source": [
    "# Comando utilizado para carregar o arquivo e armazena-lo como um DataFrame do Pandas\n",
    "\n",
    "df_dados = pd.read_excel(\"dados.xlsx\")"
   ]
  },
  {
   "cell_type": "code",
   "execution_count": 6,
   "id": "1c1942ca",
   "metadata": {},
   "outputs": [
    {
     "data": {
      "text/plain": [
       "(2000, 11)"
      ]
     },
     "execution_count": 6,
     "metadata": {},
     "output_type": "execute_result"
    }
   ],
   "source": [
    "# Comando utilizado para verificar a quantidade de linhas e colunas do arquivo\n",
    "\n",
    "df_dados.shape"
   ]
  },
  {
   "cell_type": "code",
   "execution_count": 8,
   "id": "787717e5",
   "metadata": {},
   "outputs": [
    {
     "name": "stdout",
     "output_type": "stream",
     "text": [
      "<class 'pandas.core.frame.DataFrame'>\n",
      "RangeIndex: 2000 entries, 0 to 1999\n",
      "Data columns (total 11 columns):\n",
      " #   Column                      Non-Null Count  Dtype  \n",
      "---  ------                      --------------  -----  \n",
      " 0   UF                          2000 non-null   object \n",
      " 1   IDADE                       2000 non-null   int64  \n",
      " 2   ESCOLARIDADE                2000 non-null   object \n",
      " 3   ESTADO_CIVIL                2000 non-null   object \n",
      " 4   QT_FILHOS                   2000 non-null   int64  \n",
      " 5   VL_IMOVEIS                  2000 non-null   int64  \n",
      " 6   TEMPO_ULTIMO_EMPREGO_MESES  2000 non-null   int64  \n",
      " 7   ULTIMO_SALARIO              2000 non-null   int64  \n",
      " 8   VALOR_TABELA_CARROS         2000 non-null   int64  \n",
      " 9   SCORE_CREDITO               2000 non-null   float64\n",
      " 10  EMPRESTIMO                  2000 non-null   object \n",
      "dtypes: float64(1), int64(6), object(4)\n",
      "memory usage: 172.0+ KB\n"
     ]
    }
   ],
   "source": [
    "#Comando utilizado para verificar informações sobre os dados(Tipo de variáveis, Variáveis, Quantidade de registros, etc)\n",
    "\n",
    "df_dados.info()"
   ]
  },
  {
   "cell_type": "code",
   "execution_count": 10,
   "id": "25834a47",
   "metadata": {},
   "outputs": [
    {
     "data": {
      "text/plain": [
       "UF                            0\n",
       "IDADE                         0\n",
       "ESCOLARIDADE                  0\n",
       "ESTADO_CIVIL                  0\n",
       "QT_FILHOS                     0\n",
       "VL_IMOVEIS                    0\n",
       "TEMPO_ULTIMO_EMPREGO_MESES    0\n",
       "ULTIMO_SALARIO                0\n",
       "VALOR_TABELA_CARROS           0\n",
       "SCORE_CREDITO                 0\n",
       "EMPRESTIMO                    0\n",
       "dtype: int64"
      ]
     },
     "execution_count": 10,
     "metadata": {},
     "output_type": "execute_result"
    }
   ],
   "source": [
    "# Comando utilizado para avaliar se alguma variável possui valor nulo ou chamado de valores missing ou NAN (Not Available)\n",
    "\n",
    "df_dados.isnull().sum()"
   ]
  },
  {
   "cell_type": "markdown",
   "id": "d69fb0ca",
   "metadata": {},
   "source": [
    "## Pré Processamento dos Dados"
   ]
  },
  {
   "cell_type": "code",
   "execution_count": 12,
   "id": "04352444",
   "metadata": {},
   "outputs": [],
   "source": [
    "# Cria o encoder\n",
    "lb = LabelEncoder()\n",
    "\n",
    "# Aplica o encoder nas variáveis que estão com string\n",
    "df_dados['ESTADO_CIVIL'] = lb.fit_transform(df_dados['ESTADO_CIVIL'])\n",
    "df_dados['ESCOLARIDADE'] = lb.fit_transform(df_dados['ESCOLARIDADE'])\n",
    "df_dados['UF'] = lb.fit_transform(df_dados['UF'])"
   ]
  },
  {
   "cell_type": "code",
   "execution_count": 14,
   "id": "286470da",
   "metadata": {},
   "outputs": [
    {
     "data": {
      "text/html": [
       "<div>\n",
       "<style scoped>\n",
       "    .dataframe tbody tr th:only-of-type {\n",
       "        vertical-align: middle;\n",
       "    }\n",
       "\n",
       "    .dataframe tbody tr th {\n",
       "        vertical-align: top;\n",
       "    }\n",
       "\n",
       "    .dataframe thead th {\n",
       "        text-align: right;\n",
       "    }\n",
       "</style>\n",
       "<table border=\"1\" class=\"dataframe\">\n",
       "  <thead>\n",
       "    <tr style=\"text-align: right;\">\n",
       "      <th></th>\n",
       "      <th>UF</th>\n",
       "      <th>IDADE</th>\n",
       "      <th>ESCOLARIDADE</th>\n",
       "      <th>ESTADO_CIVIL</th>\n",
       "      <th>QT_FILHOS</th>\n",
       "      <th>VL_IMOVEIS</th>\n",
       "      <th>TEMPO_ULTIMO_EMPREGO_MESES</th>\n",
       "      <th>ULTIMO_SALARIO</th>\n",
       "      <th>VALOR_TABELA_CARROS</th>\n",
       "      <th>SCORE_CREDITO</th>\n",
       "      <th>EMPRESTIMO</th>\n",
       "    </tr>\n",
       "  </thead>\n",
       "  <tbody>\n",
       "    <tr>\n",
       "      <th>0</th>\n",
       "      <td>4</td>\n",
       "      <td>19</td>\n",
       "      <td>2</td>\n",
       "      <td>2</td>\n",
       "      <td>0</td>\n",
       "      <td>0</td>\n",
       "      <td>8</td>\n",
       "      <td>1800</td>\n",
       "      <td>0</td>\n",
       "      <td>56.000000</td>\n",
       "      <td>SIM</td>\n",
       "    </tr>\n",
       "    <tr>\n",
       "      <th>1</th>\n",
       "      <td>0</td>\n",
       "      <td>23</td>\n",
       "      <td>1</td>\n",
       "      <td>2</td>\n",
       "      <td>1</td>\n",
       "      <td>0</td>\n",
       "      <td>9</td>\n",
       "      <td>4800</td>\n",
       "      <td>50000</td>\n",
       "      <td>18.000000</td>\n",
       "      <td>NAO</td>\n",
       "    </tr>\n",
       "    <tr>\n",
       "      <th>2</th>\n",
       "      <td>3</td>\n",
       "      <td>25</td>\n",
       "      <td>0</td>\n",
       "      <td>0</td>\n",
       "      <td>0</td>\n",
       "      <td>220000</td>\n",
       "      <td>18</td>\n",
       "      <td>2200</td>\n",
       "      <td>30000</td>\n",
       "      <td>45.000000</td>\n",
       "      <td>SIM</td>\n",
       "    </tr>\n",
       "    <tr>\n",
       "      <th>3</th>\n",
       "      <td>1</td>\n",
       "      <td>27</td>\n",
       "      <td>2</td>\n",
       "      <td>0</td>\n",
       "      <td>1</td>\n",
       "      <td>0</td>\n",
       "      <td>22</td>\n",
       "      <td>3900</td>\n",
       "      <td>0</td>\n",
       "      <td>28.666667</td>\n",
       "      <td>NAO</td>\n",
       "    </tr>\n",
       "    <tr>\n",
       "      <th>4</th>\n",
       "      <td>4</td>\n",
       "      <td>30</td>\n",
       "      <td>0</td>\n",
       "      <td>1</td>\n",
       "      <td>0</td>\n",
       "      <td>0</td>\n",
       "      <td>14</td>\n",
       "      <td>3100</td>\n",
       "      <td>40000</td>\n",
       "      <td>39.666667</td>\n",
       "      <td>SIM</td>\n",
       "    </tr>\n",
       "  </tbody>\n",
       "</table>\n",
       "</div>"
      ],
      "text/plain": [
       "   UF  IDADE  ESCOLARIDADE  ESTADO_CIVIL  QT_FILHOS  VL_IMOVEIS  \\\n",
       "0   4     19             2             2          0           0   \n",
       "1   0     23             1             2          1           0   \n",
       "2   3     25             0             0          0      220000   \n",
       "3   1     27             2             0          1           0   \n",
       "4   4     30             0             1          0           0   \n",
       "\n",
       "   TEMPO_ULTIMO_EMPREGO_MESES  ULTIMO_SALARIO  VALOR_TABELA_CARROS  \\\n",
       "0                           8            1800                    0   \n",
       "1                           9            4800                50000   \n",
       "2                          18            2200                30000   \n",
       "3                          22            3900                    0   \n",
       "4                          14            3100                40000   \n",
       "\n",
       "   SCORE_CREDITO EMPRESTIMO  \n",
       "0      56.000000        SIM  \n",
       "1      18.000000        NAO  \n",
       "2      45.000000        SIM  \n",
       "3      28.666667        NAO  \n",
       "4      39.666667        SIM  "
      ]
     },
     "execution_count": 14,
     "metadata": {},
     "output_type": "execute_result"
    }
   ],
   "source": [
    "df_dados.head()"
   ]
  },
  {
   "cell_type": "code",
   "execution_count": 16,
   "id": "facc9736",
   "metadata": {},
   "outputs": [],
   "source": [
    "# Separando a variavel alvo\n",
    "\n",
    "target = df_dados.iloc[:,10]"
   ]
  },
  {
   "cell_type": "code",
   "execution_count": 18,
   "id": "37f2e5b0",
   "metadata": {},
   "outputs": [
    {
     "data": {
      "text/plain": [
       "0    SIM\n",
       "1    NAO\n",
       "2    SIM\n",
       "3    NAO\n",
       "4    SIM\n",
       "Name: EMPRESTIMO, dtype: object"
      ]
     },
     "execution_count": 18,
     "metadata": {},
     "output_type": "execute_result"
    }
   ],
   "source": [
    "target.head()"
   ]
  },
  {
   "cell_type": "code",
   "execution_count": 20,
   "id": "da31a2f3",
   "metadata": {},
   "outputs": [
    {
     "data": {
      "text/html": [
       "<div>\n",
       "<style scoped>\n",
       "    .dataframe tbody tr th:only-of-type {\n",
       "        vertical-align: middle;\n",
       "    }\n",
       "\n",
       "    .dataframe tbody tr th {\n",
       "        vertical-align: top;\n",
       "    }\n",
       "\n",
       "    .dataframe thead th {\n",
       "        text-align: right;\n",
       "    }\n",
       "</style>\n",
       "<table border=\"1\" class=\"dataframe\">\n",
       "  <thead>\n",
       "    <tr style=\"text-align: right;\">\n",
       "      <th></th>\n",
       "      <th>UF</th>\n",
       "      <th>IDADE</th>\n",
       "      <th>ESCOLARIDADE</th>\n",
       "      <th>ESTADO_CIVIL</th>\n",
       "      <th>QT_FILHOS</th>\n",
       "      <th>VL_IMOVEIS</th>\n",
       "      <th>TEMPO_ULTIMO_EMPREGO_MESES</th>\n",
       "      <th>ULTIMO_SALARIO</th>\n",
       "      <th>VALOR_TABELA_CARROS</th>\n",
       "      <th>SCORE_CREDITO</th>\n",
       "    </tr>\n",
       "  </thead>\n",
       "  <tbody>\n",
       "    <tr>\n",
       "      <th>0</th>\n",
       "      <td>4</td>\n",
       "      <td>19</td>\n",
       "      <td>2</td>\n",
       "      <td>2</td>\n",
       "      <td>0</td>\n",
       "      <td>0</td>\n",
       "      <td>8</td>\n",
       "      <td>1800</td>\n",
       "      <td>0</td>\n",
       "      <td>56.000000</td>\n",
       "    </tr>\n",
       "    <tr>\n",
       "      <th>1</th>\n",
       "      <td>0</td>\n",
       "      <td>23</td>\n",
       "      <td>1</td>\n",
       "      <td>2</td>\n",
       "      <td>1</td>\n",
       "      <td>0</td>\n",
       "      <td>9</td>\n",
       "      <td>4800</td>\n",
       "      <td>50000</td>\n",
       "      <td>18.000000</td>\n",
       "    </tr>\n",
       "    <tr>\n",
       "      <th>2</th>\n",
       "      <td>3</td>\n",
       "      <td>25</td>\n",
       "      <td>0</td>\n",
       "      <td>0</td>\n",
       "      <td>0</td>\n",
       "      <td>220000</td>\n",
       "      <td>18</td>\n",
       "      <td>2200</td>\n",
       "      <td>30000</td>\n",
       "      <td>45.000000</td>\n",
       "    </tr>\n",
       "    <tr>\n",
       "      <th>3</th>\n",
       "      <td>1</td>\n",
       "      <td>27</td>\n",
       "      <td>2</td>\n",
       "      <td>0</td>\n",
       "      <td>1</td>\n",
       "      <td>0</td>\n",
       "      <td>22</td>\n",
       "      <td>3900</td>\n",
       "      <td>0</td>\n",
       "      <td>28.666667</td>\n",
       "    </tr>\n",
       "    <tr>\n",
       "      <th>4</th>\n",
       "      <td>4</td>\n",
       "      <td>30</td>\n",
       "      <td>0</td>\n",
       "      <td>1</td>\n",
       "      <td>0</td>\n",
       "      <td>0</td>\n",
       "      <td>14</td>\n",
       "      <td>3100</td>\n",
       "      <td>40000</td>\n",
       "      <td>39.666667</td>\n",
       "    </tr>\n",
       "  </tbody>\n",
       "</table>\n",
       "</div>"
      ],
      "text/plain": [
       "   UF  IDADE  ESCOLARIDADE  ESTADO_CIVIL  QT_FILHOS  VL_IMOVEIS  \\\n",
       "0   4     19             2             2          0           0   \n",
       "1   0     23             1             2          1           0   \n",
       "2   3     25             0             0          0      220000   \n",
       "3   1     27             2             0          1           0   \n",
       "4   4     30             0             1          0           0   \n",
       "\n",
       "   TEMPO_ULTIMO_EMPREGO_MESES  ULTIMO_SALARIO  VALOR_TABELA_CARROS  \\\n",
       "0                           8            1800                    0   \n",
       "1                           9            4800                50000   \n",
       "2                          18            2200                30000   \n",
       "3                          22            3900                    0   \n",
       "4                          14            3100                40000   \n",
       "\n",
       "   SCORE_CREDITO  \n",
       "0      56.000000  \n",
       "1      18.000000  \n",
       "2      45.000000  \n",
       "3      28.666667  \n",
       "4      39.666667  "
      ]
     },
     "execution_count": 20,
     "metadata": {},
     "output_type": "execute_result"
    }
   ],
   "source": [
    "# Separando as variaveis preditoras\n",
    "\n",
    "preditoras = df_dados.copy() # Fazendo uma cópia do dataframe\n",
    "\n",
    "del preditoras['EMPRESTIMO'] # Excluindo a variavel target, pois já separamos ela na etapa anterior\n",
    "\n",
    "preditoras.head() # Visualizando as variaveis preditoras"
   ]
  },
  {
   "cell_type": "code",
   "execution_count": 22,
   "id": "b57248f8",
   "metadata": {},
   "outputs": [],
   "source": [
    "# Divisão em Dados de Treino e Teste.\n",
    "\n",
    "X_treino, X_teste, y_treino, y_teste = train_test_split(preditoras, target, test_size = 0.3, random_state = 40)"
   ]
  },
  {
   "cell_type": "code",
   "execution_count": 26,
   "id": "4aa3083a",
   "metadata": {},
   "outputs": [],
   "source": [
    "# Vou aplicar a normalização em treino e teste\n",
    "# Padronização\n",
    "\n",
    "sc = MinMaxScaler()\n",
    "X_treino_normalizados = sc.fit_transform(X_treino)\n",
    "X_teste_normalizados = sc.transform(X_teste)"
   ]
  },
  {
   "cell_type": "code",
   "execution_count": null,
   "id": "cc50ccf3",
   "metadata": {},
   "outputs": [],
   "source": []
  },
  {
   "cell_type": "markdown",
   "id": "9d596916",
   "metadata": {},
   "source": [
    "## Usando o GridSearchCV"
   ]
  },
  {
   "cell_type": "code",
   "execution_count": 52,
   "id": "ea932357",
   "metadata": {},
   "outputs": [],
   "source": [
    "# Construtor do Modelo\n",
    "\n",
    "randomForest = RandomForestClassifier()"
   ]
  },
  {
   "cell_type": "code",
   "execution_count": 48,
   "id": "b0006663-0a93-495d-a0e5-b514e0146411",
   "metadata": {},
   "outputs": [],
   "source": [
    "# Valores para o grid de hiperparametros\n",
    "\n",
    "n_estimators = [100, 150, 300]\n",
    "max_depth = [10, 20]\n",
    "criterion = [\"gini\", \"entropy\"]\n",
    "max_features = [\"sqrt\", \"log2\"]\n",
    "min_samples_split = [1, 2]\n",
    "min_samples_leaf = [1, 2]\n",
    "bootstrap = [True, False]  # Note que são booleanos, não strings"
   ]
  },
  {
   "cell_type": "markdown",
   "id": "d22f988d-8123-4fff-93dc-8f418d36c006",
   "metadata": {},
   "source": [
    "- Ele vai fazer a combinação de probabilidade com TODOS os parâmetros... n_estimators 100 vai fazer com Max_depth 10, depois com 20, depois com criterion gini, depois entropy... vai passar por todas as combinações possíveis."
   ]
  },
  {
   "cell_type": "code",
   "execution_count": 50,
   "id": "faa737ff-0a82-42ef-8be6-0429f61b5997",
   "metadata": {},
   "outputs": [],
   "source": [
    "# Grid de hiperparâmetros\n",
    "\n",
    "grid_parametros = {\n",
    "    'n_estimators': n_estimators,\n",
    "    'max_depth': max_depth,\n",
    "    'criterion': criterion,\n",
    "    'max_features': max_features,\n",
    "    'min_samples_split': min_samples_split,\n",
    "    'min_samples_leaf': min_samples_leaf,\n",
    "    'bootstrap': bootstrap\n",
    "}"
   ]
  },
  {
   "cell_type": "code",
   "execution_count": 56,
   "id": "009a9f6d-44a3-45f6-970f-dc3f0c2d3c4b",
   "metadata": {},
   "outputs": [],
   "source": [
    "# Crie o GridSearchCV\n",
    "randomForest = GridSearchCV(\n",
    "    estimator=randomForest, \n",
    "    param_grid=grid_parametros, \n",
    "    cv=3, \n",
    "    n_jobs=8\n",
    ")"
   ]
  },
  {
   "cell_type": "code",
   "execution_count": 58,
   "id": "d98f84a9-fd85-42ad-8b81-6dea412e6c62",
   "metadata": {},
   "outputs": [],
   "source": [
    "# Treinando os modelos\n",
    "\n",
    "inicio = time.time()\n",
    "randomForest.fit(X_treino_normalizados, y_treino)\n",
    "fim = time.time()"
   ]
  },
  {
   "cell_type": "code",
   "execution_count": 60,
   "id": "4cd87e2d",
   "metadata": {},
   "outputs": [
    {
     "name": "stdout",
     "output_type": "stream",
     "text": [
      "Acurácia em Treinamento: 77.71%\n",
      "\n",
      "Hiperparâmetros Ideais: {'bootstrap': True, 'criterion': 'entropy', 'max_depth': 20, 'max_features': 'sqrt', 'min_samples_leaf': 1, 'min_samples_split': 2, 'n_estimators': 300}\n",
      "\n",
      "Tempo de Treinamento do Modelo:  13.14\n",
      "\n",
      "Numero de treinamentos realizados:  192\n"
     ]
    }
   ],
   "source": [
    "# Obtendo e visualizando os parametros treinados\n",
    "treinos_rf = pd.DataFrame(randomForest.cv_results_)\n",
    "\n",
    "# Acurácia em Treino\n",
    "print(f\"Acurácia em Treinamento: {randomForest.best_score_ :.2%}\")\n",
    "print(\"\")\n",
    "print(f\"Hiperparâmetros Ideais: {randomForest.best_params_}\")\n",
    "print(\"\")\n",
    "print(\"Tempo de Treinamento do Modelo: \", round(fim - inicio,2))\n",
    "print(\"\")\n",
    "print(\"Numero de treinamentos realizados: \", treinos_rf.shape[0])"
   ]
  },
  {
   "cell_type": "code",
   "execution_count": null,
   "id": "5ead1fe9",
   "metadata": {},
   "outputs": [],
   "source": []
  },
  {
   "cell_type": "markdown",
   "id": "742a611e",
   "metadata": {},
   "source": [
    "## Usando o RandomizedSearchCV com 50 COMBINAÇÕES"
   ]
  },
  {
   "cell_type": "code",
   "execution_count": 62,
   "id": "55899ea3",
   "metadata": {},
   "outputs": [],
   "source": [
    "# Construtor do Modelo\n",
    "randomForest_1 = RandomForestClassifier()"
   ]
  },
  {
   "cell_type": "code",
   "execution_count": 64,
   "id": "6ab84b76-c244-4dff-abb1-e58919640ae2",
   "metadata": {},
   "outputs": [],
   "source": [
    "# Valores para o grid de hiperparametros\n",
    "\n",
    "n_estimators = [100, 150, 300]\n",
    "max_depth = [10, 20]\n",
    "criterion = [\"gini\", \"entropy\"]\n",
    "max_features = [\"sqrt\", \"log2\"]\n",
    "min_samples_split = [1, 2]\n",
    "min_samples_leaf = [1, 2]\n",
    "bootstrap = [True, False]  # Note que são booleanos, não strings"
   ]
  },
  {
   "cell_type": "code",
   "execution_count": 68,
   "id": "c5491bc7-d3cd-44b9-a546-fdf8899889bf",
   "metadata": {},
   "outputs": [],
   "source": [
    "# Numero de iterações do RandonSearch\n",
    "# Aqui no randomsearch podemos dizer quantas combinações queremos fazer \n",
    "\n",
    "iteracoes = 50"
   ]
  },
  {
   "cell_type": "code",
   "execution_count": 70,
   "id": "95870dd2-2ee9-4953-bfa4-61c85976551b",
   "metadata": {},
   "outputs": [],
   "source": [
    "# Grid de hiperparâmetros\n",
    "\n",
    "grid_parametros = {\n",
    "    'n_estimators': n_estimators,\n",
    "    'max_depth': max_depth,\n",
    "    'criterion': criterion,\n",
    "    'max_features': max_features,\n",
    "    'min_samples_split': min_samples_split,\n",
    "    'min_samples_leaf': min_samples_leaf,\n",
    "    'bootstrap': bootstrap\n",
    "}"
   ]
  },
  {
   "cell_type": "code",
   "execution_count": 74,
   "id": "8c790dc0-9e97-4c8a-aefa-31429cb8c5ac",
   "metadata": {},
   "outputs": [],
   "source": [
    "# Crie o GridSearchCV\n",
    "\n",
    "randomForest = RandomizedSearchCV(\n",
    "    estimator=randomForest_1, \n",
    "    param_distributions=grid_parametros, \n",
    "    cv=3, \n",
    "    n_jobs=8,\n",
    "    n_iter = iteracoes\n",
    ")"
   ]
  },
  {
   "cell_type": "code",
   "execution_count": 76,
   "id": "2a5a5557-8c37-4433-9244-cab0e94286e8",
   "metadata": {},
   "outputs": [],
   "source": [
    "# Treinando os modelos\n",
    "inicio = time.time()\n",
    "randomForest.fit(X_treino_normalizados, y_treino)\n",
    "fim = time.time()"
   ]
  },
  {
   "cell_type": "code",
   "execution_count": 78,
   "id": "929bd407",
   "metadata": {},
   "outputs": [
    {
     "name": "stdout",
     "output_type": "stream",
     "text": [
      "Acurácia em Treinamento: 78.28%\n",
      "\n",
      "Hiperparâmetros Ideais: {'n_estimators': 100, 'min_samples_split': 2, 'min_samples_leaf': 1, 'max_features': 'sqrt', 'max_depth': 10, 'criterion': 'gini', 'bootstrap': True}\n",
      "\n",
      "Tempo de Treinamento do Modelo:  4.34\n",
      "\n",
      "Numero de treinamentos realizados:  50\n"
     ]
    }
   ],
   "source": [
    "# Obtendo e visualizando os parametros treinados\n",
    "treinos_rf = pd.DataFrame(randomForest.cv_results_)\n",
    "\n",
    "# Acurácia em Treino\n",
    "print(f\"Acurácia em Treinamento: {randomForest.best_score_ :.2%}\")\n",
    "print(\"\")\n",
    "print(f\"Hiperparâmetros Ideais: {randomForest.best_params_}\")\n",
    "print(\"\")\n",
    "print(\"Tempo de Treinamento do Modelo: \", round(fim - inicio,2))\n",
    "print(\"\")\n",
    "print(\"Numero de treinamentos realizados: \", treinos_rf.shape[0])"
   ]
  },
  {
   "cell_type": "code",
   "execution_count": null,
   "id": "4a82f061",
   "metadata": {},
   "outputs": [],
   "source": []
  },
  {
   "cell_type": "markdown",
   "id": "02988f36-7384-4a4a-b33b-67bc6861c378",
   "metadata": {},
   "source": [
    "## Usando o RandomizedSearchCV com TODAS AS COMBINAÇÕES"
   ]
  },
  {
   "cell_type": "code",
   "execution_count": 90,
   "id": "5959d4a8-f0de-4cd8-a0e8-991213c8838c",
   "metadata": {},
   "outputs": [
    {
     "name": "stdout",
     "output_type": "stream",
     "text": [
      "Acurácia em Treinamento: 77.43%\n",
      "\n",
      "Hiperparâmetros Ideais: {'n_estimators': 150, 'min_samples_split': 2, 'min_samples_leaf': 2, 'max_features': 'sqrt', 'max_depth': 10, 'criterion': 'entropy', 'bootstrap': False}\n",
      "\n",
      "Tempo de Treinamento do Modelo:  0.83\n",
      "\n",
      "Numero de treinamentos realizados:  10\n"
     ]
    }
   ],
   "source": [
    "# Construtor do Modelo\n",
    "randomForest_2 = RandomForestClassifier()\n",
    "\n",
    "# Valores para o grid de hiperparametros\n",
    "\n",
    "n_estimators = [100, 150, 300]\n",
    "max_depth = [10, 20]\n",
    "criterion = [\"gini\", \"entropy\"]\n",
    "max_features = [\"sqrt\", \"log2\"]\n",
    "min_samples_split = [1, 2]\n",
    "min_samples_leaf = [1, 2]\n",
    "bootstrap = [True, False]  # Note que são booleanos, não strings\n",
    "\n",
    "# Grid de hiperparâmetros\n",
    "\n",
    "grid_parametros = {\n",
    "    'n_estimators': n_estimators,\n",
    "    'max_depth': max_depth,\n",
    "    'criterion': criterion,\n",
    "    'max_features': max_features,\n",
    "    'min_samples_split': min_samples_split,\n",
    "    'min_samples_leaf': min_samples_leaf,\n",
    "    'bootstrap': bootstrap\n",
    "}\n",
    "\n",
    "# Crie o GridSearchCV\n",
    "\n",
    "randomForest = RandomizedSearchCV(\n",
    "    estimator=randomForest_1, \n",
    "    param_distributions=grid_parametros, \n",
    "    cv=3, \n",
    "    n_jobs=8\n",
    ")\n",
    "\n",
    "# Treinando os modelos\n",
    "inicio = time.time()\n",
    "randomForest.fit(X_treino_normalizados, y_treino)\n",
    "fim = time.time()\n",
    "\n",
    "# Obtendo e visualizando os parametros treinados\n",
    "treinos_rf = pd.DataFrame(randomForest.cv_results_)\n",
    "\n",
    "# Acurácia em Treino\n",
    "print(f\"Acurácia em Treinamento: {randomForest.best_score_ :.2%}\")\n",
    "print(\"\")\n",
    "print(f\"Hiperparâmetros Ideais: {randomForest.best_params_}\")\n",
    "print(\"\")\n",
    "print(\"Tempo de Treinamento do Modelo: \", round(fim - inicio,2))\n",
    "print(\"\")\n",
    "print(\"Numero de treinamentos realizados: \", treinos_rf.shape[0])"
   ]
  },
  {
   "cell_type": "markdown",
   "id": "b6abc1cb",
   "metadata": {},
   "source": [
    "## Utilizando o Baysian Search"
   ]
  },
  {
   "cell_type": "code",
   "execution_count": 98,
   "id": "28002fc6",
   "metadata": {},
   "outputs": [],
   "source": [
    "# Instalação do Baysian_opt\n",
    "# !pip install bayesian-optimization"
   ]
  },
  {
   "cell_type": "code",
   "execution_count": 96,
   "id": "d7d3ca85-3a55-4c4e-a11c-5504a456920a",
   "metadata": {},
   "outputs": [
    {
     "name": "stdout",
     "output_type": "stream",
     "text": [
      "Collecting bayesian-optimization\n",
      "  Downloading bayesian_optimization-2.0.3-py3-none-any.whl.metadata (9.0 kB)\n",
      "Requirement already satisfied: colorama<0.5.0,>=0.4.6 in c:\\users\\pichau\\anaconda3\\lib\\site-packages (from bayesian-optimization) (0.4.6)\n",
      "Requirement already satisfied: numpy>=1.25 in c:\\users\\pichau\\anaconda3\\lib\\site-packages (from bayesian-optimization) (1.26.4)\n",
      "Requirement already satisfied: scikit-learn<2.0.0,>=1.0.0 in c:\\users\\pichau\\anaconda3\\lib\\site-packages (from bayesian-optimization) (1.5.1)\n",
      "Requirement already satisfied: scipy<2.0.0,>=1.0.0 in c:\\users\\pichau\\anaconda3\\lib\\site-packages (from bayesian-optimization) (1.13.1)\n",
      "Requirement already satisfied: joblib>=1.2.0 in c:\\users\\pichau\\anaconda3\\lib\\site-packages (from scikit-learn<2.0.0,>=1.0.0->bayesian-optimization) (1.4.2)\n",
      "Requirement already satisfied: threadpoolctl>=3.1.0 in c:\\users\\pichau\\anaconda3\\lib\\site-packages (from scikit-learn<2.0.0,>=1.0.0->bayesian-optimization) (3.5.0)\n",
      "Downloading bayesian_optimization-2.0.3-py3-none-any.whl (31 kB)\n",
      "Installing collected packages: bayesian-optimization\n",
      "Successfully installed bayesian-optimization-2.0.3\n"
     ]
    }
   ],
   "source": [
    "!pip install bayesian-optimization"
   ]
  },
  {
   "cell_type": "code",
   "execution_count": 104,
   "id": "ea8c759a-5c86-45f7-9c60-5a50ad812733",
   "metadata": {},
   "outputs": [
    {
     "name": "stdout",
     "output_type": "stream",
     "text": [
      "Collecting scikit-optimize\n",
      "  Downloading scikit_optimize-0.10.2-py2.py3-none-any.whl.metadata (9.7 kB)\n",
      "Requirement already satisfied: joblib>=0.11 in c:\\users\\pichau\\anaconda3\\lib\\site-packages (from scikit-optimize) (1.4.2)\n",
      "Collecting pyaml>=16.9 (from scikit-optimize)\n",
      "  Downloading pyaml-25.1.0-py3-none-any.whl.metadata (12 kB)\n",
      "Requirement already satisfied: numpy>=1.20.3 in c:\\users\\pichau\\anaconda3\\lib\\site-packages (from scikit-optimize) (1.26.4)\n",
      "Requirement already satisfied: scipy>=1.1.0 in c:\\users\\pichau\\anaconda3\\lib\\site-packages (from scikit-optimize) (1.13.1)\n",
      "Requirement already satisfied: scikit-learn>=1.0.0 in c:\\users\\pichau\\anaconda3\\lib\\site-packages (from scikit-optimize) (1.5.1)\n",
      "Requirement already satisfied: packaging>=21.3 in c:\\users\\pichau\\anaconda3\\lib\\site-packages (from scikit-optimize) (24.1)\n",
      "Requirement already satisfied: PyYAML in c:\\users\\pichau\\anaconda3\\lib\\site-packages (from pyaml>=16.9->scikit-optimize) (6.0.1)\n",
      "Requirement already satisfied: threadpoolctl>=3.1.0 in c:\\users\\pichau\\anaconda3\\lib\\site-packages (from scikit-learn>=1.0.0->scikit-optimize) (3.5.0)\n",
      "Downloading scikit_optimize-0.10.2-py2.py3-none-any.whl (107 kB)\n",
      "Downloading pyaml-25.1.0-py3-none-any.whl (26 kB)\n",
      "Installing collected packages: pyaml, scikit-optimize\n",
      "Successfully installed pyaml-25.1.0 scikit-optimize-0.10.2\n"
     ]
    }
   ],
   "source": [
    "!pip install scikit-optimize"
   ]
  },
  {
   "cell_type": "code",
   "execution_count": 114,
   "id": "f3027229-af4b-4e05-b723-2d6191c7362d",
   "metadata": {},
   "outputs": [],
   "source": [
    "from skopt import BayesSearchCV\n",
    "from skopt.space import Real, Categorical, Integer\n",
    "from bayes_opt import BayesianOptimization"
   ]
  },
  {
   "cell_type": "code",
   "execution_count": 118,
   "id": "34472c98-9f0b-469c-af49-ac902bca6939",
   "metadata": {},
   "outputs": [],
   "source": [
    "# Defina a função de caixa preta para otimizar. \n",
    "\n",
    "def black_box_function(C): \n",
    "    # C: hiperparâmetro SVC para otimizar. \n",
    "    model = SVC(C = C) \n",
    "    model.fit(X_treino_normalizados, y_treino) \n",
    "    y_score = model.decision_function(X_teste_normalizados) \n",
    "    f = roc_auc_score(y_teste, y_score) \n",
    "    return f"
   ]
  },
  {
   "cell_type": "code",
   "execution_count": 122,
   "id": "de2d0bd5",
   "metadata": {},
   "outputs": [
    {
     "name": "stdout",
     "output_type": "stream",
     "text": [
      "|   iter    |  target   |     C     |\n",
      "-------------------------------------\n",
      "| \u001b[39m1        \u001b[39m | \u001b[39m0.8789   \u001b[39m | \u001b[39m9.674    \u001b[39m |\n",
      "| \u001b[39m2        \u001b[39m | \u001b[39m0.878    \u001b[39m | \u001b[39m5.518    \u001b[39m |\n",
      "| \u001b[39m3        \u001b[39m | \u001b[39m0.8772   \u001b[39m | \u001b[39m9.73     \u001b[39m |\n",
      "| \u001b[39m4        \u001b[39m | \u001b[39m0.8779   \u001b[39m | \u001b[39m7.177    \u001b[39m |\n",
      "| \u001b[35m5        \u001b[39m | \u001b[35m0.8802   \u001b[39m | \u001b[35m7.008    \u001b[39m |\n",
      "| \u001b[35m6        \u001b[39m | \u001b[35m0.8802   \u001b[39m | \u001b[35m9.75     \u001b[39m |\n",
      "| \u001b[39m7        \u001b[39m | \u001b[39m0.8307   \u001b[39m | \u001b[39m0.94     \u001b[39m |\n",
      "| \u001b[35m8        \u001b[39m | \u001b[35m0.8805   \u001b[39m | \u001b[35m9.911    \u001b[39m |\n",
      "| \u001b[39m9        \u001b[39m | \u001b[39m0.8772   \u001b[39m | \u001b[39m7.078    \u001b[39m |\n",
      "| \u001b[35m10       \u001b[39m | \u001b[35m0.8809   \u001b[39m | \u001b[35m7.177    \u001b[39m |\n",
      "| \u001b[39m11       \u001b[39m | \u001b[39m0.8797   \u001b[39m | \u001b[39m7.175    \u001b[39m |\n",
      "| \u001b[39m12       \u001b[39m | \u001b[39m0.8784   \u001b[39m | \u001b[39m9.913    \u001b[39m |\n",
      "| \u001b[39m13       \u001b[39m | \u001b[39m0.8785   \u001b[39m | \u001b[39m9.748    \u001b[39m |\n",
      "| \u001b[39m14       \u001b[39m | \u001b[39m0.8764   \u001b[39m | \u001b[39m9.751    \u001b[39m |\n",
      "| \u001b[39m15       \u001b[39m | \u001b[39m0.8791   \u001b[39m | \u001b[39m7.009    \u001b[39m |\n",
      "| \u001b[39m16       \u001b[39m | \u001b[39m0.8749   \u001b[39m | \u001b[39m9.672    \u001b[39m |\n",
      "| \u001b[39m17       \u001b[39m | \u001b[39m0.8774   \u001b[39m | \u001b[39m9.675    \u001b[39m |\n",
      "| \u001b[39m18       \u001b[39m | \u001b[39m0.8771   \u001b[39m | \u001b[39m9.91     \u001b[39m |\n",
      "| \u001b[39m19       \u001b[39m | \u001b[39m0.8787   \u001b[39m | \u001b[39m9.746    \u001b[39m |\n",
      "| \u001b[39m20       \u001b[39m | \u001b[39m0.8797   \u001b[39m | \u001b[39m7.01     \u001b[39m |\n",
      "| \u001b[39m21       \u001b[39m | \u001b[39m0.8792   \u001b[39m | \u001b[39m7.006    \u001b[39m |\n",
      "| \u001b[39m22       \u001b[39m | \u001b[39m0.8786   \u001b[39m | \u001b[39m7.011    \u001b[39m |\n",
      "| \u001b[39m23       \u001b[39m | \u001b[39m0.8766   \u001b[39m | \u001b[39m9.745    \u001b[39m |\n",
      "| \u001b[39m24       \u001b[39m | \u001b[39m0.8784   \u001b[39m | \u001b[39m7.005    \u001b[39m |\n",
      "| \u001b[39m25       \u001b[39m | \u001b[39m0.8795   \u001b[39m | \u001b[39m7.174    \u001b[39m |\n",
      "=====================================\n",
      "Melhor Resultado: {'C': 7.176573748568846}; f(x) = 0.8809375382663001.\n"
     ]
    }
   ],
   "source": [
    "# Defina o intervalo de C para otimizar. \n",
    "# bayes_opt requer que seja um dicionário. \n",
    "pbounds = {\"C\": [0.1, 10]}\n",
    "\n",
    "# Cria o otimizados e otimiza a função da caixa preta\n",
    "optimizer = BayesianOptimization(f = black_box_function,\n",
    "                                 pbounds = pbounds, verbose = 2,\n",
    "                                 random_state = 4)\n",
    "optimizer.maximize(init_points = 5, n_iter = 20)\n",
    "print(\"Melhor Resultado: {}; f(x) = {}.\".format(optimizer.max[\"params\"], optimizer.max[\"target\"]))"
   ]
  }
 ],
 "metadata": {
  "kernelspec": {
   "display_name": "Python [conda env:base] *",
   "language": "python",
   "name": "conda-base-py"
  },
  "language_info": {
   "codemirror_mode": {
    "name": "ipython",
    "version": 3
   },
   "file_extension": ".py",
   "mimetype": "text/x-python",
   "name": "python",
   "nbconvert_exporter": "python",
   "pygments_lexer": "ipython3",
   "version": "3.12.3"
  }
 },
 "nbformat": 4,
 "nbformat_minor": 5
}
